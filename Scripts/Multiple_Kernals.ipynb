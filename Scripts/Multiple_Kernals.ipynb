{
  "nbformat": 4,
  "nbformat_minor": 0,
  "metadata": {
    "colab": {
      "provenance": []
    },
    "kernelspec": {
      "name": "python3",
      "display_name": "Python 3"
    },
    "language_info": {
      "name": "python"
    }
  },
  "cells": [
    {
      "cell_type": "code",
      "source": [
        "import numpy as np\n",
        "import pandas as pd\n",
        "import matplotlib.pyplot as plt\n",
        "from sklearn.gaussian_process import GaussianProcessRegressor\n",
        "from sklearn.gaussian_process.kernels import RBF, ConstantKernel as C, Matern, RationalQuadratic as RQ, WhiteKernel\n",
        "!apt-get install git\n",
        "!git clone https://github.com/afyanyan/SN.git\n",
        "%cd SN/Database/Process_Data"
      ],
      "metadata": {
        "id": "bHz79a52Fly0"
      },
      "execution_count": null,
      "outputs": []
    },
    {
      "cell_type": "code",
      "execution_count": null,
      "metadata": {
        "id": "CGhK338QFfQG"
      },
      "outputs": [],
      "source": [
        "#test run with STD and different types of kernels\n",
        "\n",
        "print(\"Which SN LightCurve do you wish to view?\")\n",
        "SN_name = input(\"enter SN name- \")\n",
        "file = SN_name + \"_frg_r.csv\"\n",
        "frg_r = pd.read_csv(file)\n",
        "\n",
        "\n",
        "# training data set\n",
        "X = frg_r[['MJD']].values\n",
        "y = frg_r[['unforced_mag']].values\n",
        "\n",
        "# define the kernel and set up the GPR\n",
        "kernelThree = Matern(length_scale=1.0, length_scale_bounds=(1e-2, 1e2), nu=1.5)\n",
        "kernelFour = RBF(length_scale=1.0, length_scale_bounds=(1e-2, 1e2))\n",
        "kernelFive = C(1.0, (1e-3, 1e3)) * Matern(length_scale=1.0, length_scale_bounds=(1e-2, 1e2), nu=1.5)*RBF(length_scale=1.0, length_scale_bounds=(1e-2, 1e2))\n",
        "kernelSix = C(1.0, (1e-3, 1e3)) * RQ(length_scale=1.0, alpha=1.0, length_scale_bounds=(1e-2, 1e2), alpha_bounds=(1e-5, 1e5))\n",
        "kernelSeven = C(1.0, (1e-3, 1e3)) * RQ(length_scale=1.0, alpha=1.0, length_scale_bounds=(1e-2, 1e2), alpha_bounds=(1e-5, 1e5))* Matern(length_scale=1.0, length_scale_bounds=(1e-2, 1e2), nu=1.5)\n",
        "kernelEight = C(1.0, (1e-3, 1e3)) * RBF(length_scale=1.0, length_scale_bounds=(1e-2, 1e2)) + WhiteKernel(noise_level=1, noise_level_bounds=(1e-05, 1e5))\n",
        "\n",
        "# note --> adding a white kernel to kernelFive(C*Matern*RBF) just basically turns it into kernelSeven (C*RQ*Matern)\n",
        "\n",
        "# Initialize Gaussian Process Regressor\n",
        "gpr = GaussianProcessRegressor(kernel=kernelSeven, n_restarts_optimizer=10, random_state=42)\n",
        "\n",
        "# Fit to the data\n",
        "gpr.fit(X, y)\n",
        "\n",
        "# predicted data set\n",
        "X_test = np.linspace(X.min(), X.max(), 1000).reshape(-1, 1)\n",
        "y_pred, sigma = gpr.predict(X_test, return_std=True)\n",
        "\n",
        "# Function to find local extrema in the predicted values\n",
        "def find_local_extrema(arr, X_test):\n",
        "    for i in range(2, len(arr) - 1):\n",
        "        # Check if the current value is a local maxima or minima\n",
        "        if arr[i] > arr[i-1] and arr[i] > arr[i+1]:  # local maxima\n",
        "            return (X_test[i][0], arr[i], 'max')\n",
        "        elif arr[i] < arr[i-1] and arr[i] < arr[i+1]:  # local minima\n",
        "            return (X_test[i][0], arr[i], 'min')\n",
        "    return None\n",
        "\n",
        "# Find the first local extremum (max or min) in the predicted values\n",
        "extrema = find_local_extrema(y_pred, X_test)\n",
        "\n",
        "\n",
        "# Find the maximum predicted value and its corresponding X_test value\n",
        "max_y = np.max(y_pred)\n",
        "max_x = X_test[np.argmax(y_pred)]\n",
        "\n",
        "# plot graph\n",
        "plt.figure(figsize=(10, 6))\n",
        "plt.plot(X, y, 'ro', label=\"Observed Data\")  # Original data points\n",
        "plt.plot(X_test, y_pred, 'b-', label=\"GPR Prediction\")  # Mean prediction\n",
        "plt.fill_between(X_test.ravel(), y_pred - 1.96 * sigma, y_pred + 1.96 * sigma, color='blue', alpha=0.2, label=\"95% Confidence Interval\")\n",
        "#try using 2 data points\n",
        "\n",
        "\n",
        "# Highlight the local maximum or minimum point\n",
        "if extrema:\n",
        "    ex_x, ex_y, ex_type = extrema\n",
        "    plt.scatter(ex_x, ex_y, color='green', s=100, label=f\"Shock Breakout at MJD: {ex_x:.2f}, Mag: {ex_y:.2f}\", zorder=5)\n",
        "\n",
        "# Highlight the maximum point\n",
        "plt.scatter(max_x, max_y, color='yellow', s=100, label=\"Maximum Prediction\", zorder=5)\n",
        "\n",
        "plt.xlabel(\"MJD\")\n",
        "plt.ylabel(\"Unforced Magnitude\")\n",
        "plt.gca().invert_yaxis()\n",
        "plt.title(\"Gaussian Process Regression for MJD vs Unforced Magnitude\")\n",
        "plt.legend()\n",
        "plt.show()\n",
        "\n",
        "\n",
        "# Print the results\n",
        "print(f\"Max of: {max_y} At MJD: {max_x}\")\n",
        "if extrema:\n",
        "    ex_x, ex_y, ex_type = extrema\n",
        "    print(f\"Shock Breakout of: {ex_y} at MJD: {ex_x}\")\n",
        "else:\n",
        "    print(\"No local extrema found.\")"
      ]
    }
  ]
}